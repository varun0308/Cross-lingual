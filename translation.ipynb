{
 "cells": [
  {
   "cell_type": "code",
   "execution_count": null,
   "metadata": {},
   "outputs": [],
   "source": [
    "from Preprocessing import preprocess\n",
    "from langdetect import detect_langs\n",
    "import inltk"
   ]
  },
  {
   "cell_type": "code",
   "execution_count": null,
   "metadata": {},
   "outputs": [],
   "source": [
    "file = open(r\"preprocessed_file_name\",'r')\n",
    "text = file.read()\n",
    "sentences = inltk.sent_tokenize(text)\n",
    "words = sentences.split(\" \")"
   ]
  },
  {
   "cell_type": "code",
   "execution_count": null,
   "metadata": {},
   "outputs": [],
   "source": [
    "count_kn = 0\n",
    "count_en = 0\n",
    "\n",
    "kannada_words = []\n",
    "english_words = []"
   ]
  },
  {
   "cell_type": "code",
   "execution_count": null,
   "metadata": {},
   "outputs": [],
   "source": [
    "for word in words:\n",
    "    lan=[{lang.lang: lang.prob} for lang in detect_langs(word)]\n",
    "    \n",
    "    if 'kn' in lan[0]:\n",
    "        print(word,\"Kannada\")\n",
    "        count_kn += 1\n",
    "        kannada_words.append(word)\n",
    "    else :\n",
    "        print(word,\"English\")\n",
    "        count_en += 1\n",
    "        english_words.append(word)\n",
    "print(count_kn,count_en)\n",
    "print(kannada_words,english_words)"
   ]
  }
 ],
 "metadata": {
  "language_info": {
   "name": "python"
  },
  "orig_nbformat": 4
 },
 "nbformat": 4,
 "nbformat_minor": 2
}
